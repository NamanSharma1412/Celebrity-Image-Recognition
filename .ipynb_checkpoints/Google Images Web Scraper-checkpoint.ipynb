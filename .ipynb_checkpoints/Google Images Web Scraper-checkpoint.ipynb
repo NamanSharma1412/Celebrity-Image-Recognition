{
 "cells": [
  {
   "cell_type": "code",
   "execution_count": null,
   "metadata": {},
   "outputs": [],
   "source": []
  }
 ],
 "metadata": {
  "kernelspec": {
   "display_name": "Python 3.10.6 64-bit",
   "language": "python",
   "name": "python3"
  },
  "language_info": {
   "name": "python",
   "version": "3.10.6"
  },
  "vscode": {
   "interpreter": {
    "hash": "7e970d5a8c916bca2cb0122bfed6e5db02415c9f2390f35eac73a3dac43741bd"
   }
  }
 },
 "nbformat": 4,
 "nbformat_minor": 5
}
