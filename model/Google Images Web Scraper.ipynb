{
 "cells": [
  {
   "cell_type": "code",
   "execution_count": 1,
   "id": "054a8036",
   "metadata": {},
   "outputs": [],
   "source": [
    "import time\n",
    "import requests \n",
    "import io\n",
    "import hashlib\n",
    "import os\n",
    "from selenium import webdriver\n",
    "import goto\n",
    "from selenium.webdriver.common.keys import Keys\n",
    "from PIL import Image, ImageDraw\n"
   ]
  },
  {
   "cell_type": "code",
   "execution_count": 2,
   "id": "6b3182e2",
   "metadata": {},
   "outputs": [],
   "source": [
    "def fetch_image_urls(query:str,wd,max_links_to_fetch:int):\n",
    "    def scroll_to_bottom(wd):\n",
    "        scroll_count=0\n",
    "        while(scroll_count!=5):\n",
    "            wd.execute_script(\"window.scrollTo(0, document.body.scrollHeight);\")\n",
    "            scroll_count+=1\n",
    "            time.sleep(2)\n",
    "    \n",
    "      # build the google query\n",
    "    search_url = \"https://www.google.com/search?safe=off&site=&tbm=isch&source=hp&q={q}&oq={q}&gs_l=img\"\n",
    "\n",
    "    # load the page\n",
    "    wd.get(search_url.format(q=query))\n",
    "    \n",
    "    image_urls = set()\n",
    "    img_count = 0\n",
    "    results_start = 0\n",
    "        \n",
    "    while(len(image_urls)<max_links_to_fetch):\n",
    "        # get all the thumbnail results\n",
    "        thumbnail_results = wd.find_elements_by_css_selector('img.rg_i.Q4LuWd')\n",
    "        number_results = len(thumbnail_results)\n",
    "        print(f\"Found: {number_results} search results. Extracting links from {results_start}:{number_results}\")\n",
    "        \n",
    "        if(number_results<max_links_to_fetch):\n",
    "            scroll_to_bottom(wd)\n",
    "            load_more_button = wd.find_element_by_xpath('//*[@id=\"islmp\"]/div/div/div/div/div[1]/div[2]/div[2]/input')\n",
    "            if load_more_button:\n",
    "                load_more_button.click()\n",
    "        # iterating through all the thumbnails and clicking them all to get the actual image\n",
    "        for thumbnail_result in thumbnail_results[results_start:number_results]:\n",
    "            if(len(image_urls)>=max_links_to_fetch):\n",
    "                break\n",
    "                \n",
    "            else:\n",
    "                try:\n",
    "                    thumbnail_result.click()\n",
    "                    time.sleep(1.5)\n",
    "                except Exception as e:\n",
    "                    print(e)\n",
    "                    continue\n",
    "                # getting the actual image from the thumbnail\n",
    "                actual_img = wd.find_elements_by_css_selector('#Sva75c > div.DyeYj > div > div.dFMRD > div.pxAole > div.tvh9oe.BIB1wf > c-wiz > div.nIWXKc.JgfpDb > div.OUZ5W > div.zjoqD > div.qdnLaf.isv-id.b0vFpe > div > a > img')\n",
    "                for actual_image in actual_img:\n",
    "                    if actual_image.get_attribute('src') and 'http' in actual_image.get_attribute('src'):\n",
    "                        image_urls.add(actual_image.get_attribute('src'))\n",
    "                        print(f'Extracting {len(image_urls)} of {max_links_to_fetch}')\n",
    "                        if(len(image_urls)>=max_links_to_fetch):\n",
    "                            break\n",
    "                    else:\n",
    "                        continue\n",
    "    return image_urls\n",
    "\n",
    "\n"
   ]
  },
  {
   "cell_type": "code",
   "execution_count": 3,
   "id": "34462bde",
   "metadata": {},
   "outputs": [],
   "source": [
    "def persist_image(folder_path:str,url:str):\n",
    "    try:\n",
    "        image_content = requests.get(url).content\n",
    "\n",
    "    except Exception as e:\n",
    "        print(f\"ERROR - Could not download {url} - {e}\")\n",
    "\n",
    "    try:\n",
    "        image_file = io.BytesIO(image_content)\n",
    "        image = Image.open(image_file).convert('RGB')\n",
    "        file_path = os.path.join(folder_path,hashlib.sha1(image_content).hexdigest()[:10] + '.jpg')\n",
    "        with open(file_path, 'wb') as f:\n",
    "            image.save(f, \"JPEG\", quality=85)\n",
    "        print(f\"SUCCESS - saved {url} - as {file_path}\")\n",
    "    except Exception as e:\n",
    "        print(f\"ERROR - Could not save {url} - {e}\")\n",
    "        \n",
    "        \n",
    "def search_and_download(search_term:str,target_path:str,number_images):\n",
    "    target_folder = os.path.join(target_path,'_'.join(search_term.lower().split(' ')))\n",
    "\n",
    "    if not os.path.exists(target_folder):\n",
    "        os.makedirs(target_folder)\n",
    "\n",
    "    with webdriver.Chrome(executable_path=\"C:\\\\Python\\\\scraping\\\\chromedriver.exe\") as wd:\n",
    "        res = fetch_image_urls(search_term, wd,number_images)\n",
    "        \n",
    "    for elem in res:\n",
    "        persist_image(target_folder,elem)"
   ]
  },
  {
   "cell_type": "code",
   "execution_count": 4,
   "id": "70922008",
   "metadata": {},
   "outputs": [
    {
     "name": "stdout",
     "output_type": "stream",
     "text": [
      "Enter no of queries1\n",
      "sachin\n",
      "enter no of images required for each query10\n",
      "Found: 48 search results. Extracting links from 0:48\n",
      "Extracting 1 of 10\n",
      "Extracting 2 of 10\n",
      "Extracting 3 of 10\n",
      "Extracting 4 of 10\n",
      "Extracting 5 of 10\n",
      "Extracting 6 of 10\n",
      "Extracting 7 of 10\n",
      "Extracting 8 of 10\n",
      "Extracting 9 of 10\n",
      "Extracting 10 of 10\n",
      "SUCCESS - saved https://img.jagranjosh.com/imported/images/E/GK/sachin-records.png - as C:\\Python\\scraping\\New folder\\sachin\\9164ba778a.jpg\n",
      "SUCCESS - saved https://images.indianexpress.com/2020/04/tendulkar-1200.jpg - as C:\\Python\\scraping\\New folder\\sachin\\70c51d3728.jpg\n",
      "SUCCESS - saved https://images.news18.com/ibnlive/uploads/2021/04/sachin.jpg - as C:\\Python\\scraping\\New folder\\sachin\\91aec3ac4a.jpg\n",
      "SUCCESS - saved https://resources.pulse.icc-cricket.com/ICC/photo/2018/04/22/c19486c2-4e5b-48c4-82af-c6d0eebb7bd2/Main.jpg - as C:\\Python\\scraping\\New folder\\sachin\\3cc0211d27.jpg\n",
      "SUCCESS - saved https://akm-img-a-in.tosshub.com/businesstoday/images/story/202210/r-sixteen_nine.jpg?size=948:533 - as C:\\Python\\scraping\\New folder\\sachin\\c4e1ebf4d6.jpg\n",
      "SUCCESS - saved https://upload.wikimedia.org/wikipedia/commons/2/25/Sachin_Tendulkar_at_MRF_Promotion_Event.jpg - as C:\\Python\\scraping\\New folder\\sachin\\af91451a97.jpg\n",
      "SUCCESS - saved https://i0.wp.com/cricketaddictor.com/wp-content/uploads/2020/04/Sachin-Tendulkar-5.jpg?resize=800%2C518&ssl=1 - as C:\\Python\\scraping\\New folder\\sachin\\c6c18855a8.jpg\n",
      "SUCCESS - saved https://images.hindustantimes.com/img/2022/10/19/1600x900/sachin_tendulkar_1666183850678_1666183855510_1666183855510.JPG - as C:\\Python\\scraping\\New folder\\sachin\\3ab50389b2.jpg\n",
      "SUCCESS - saved https://ichef.bbci.co.uk/news/976/cpsprodpb/E738/production/_117729195_gettyimages-110022758-594x594.jpg - as C:\\Python\\scraping\\New folder\\sachin\\c24916bd21.jpg\n",
      "SUCCESS - saved https://images.hindustantimes.com/img/2022/03/09/1600x900/tendulkar-getty-close-up_1646841321724_1646841327500.jpg - as C:\\Python\\scraping\\New folder\\sachin\\c0fdcba79e.jpg\n"
     ]
    }
   ],
   "source": [
    "# DRIVER_PATH = \"C:\\\\Python\\\\scraping\\\\chromedriver.exe\"\n",
    "TARGET_PATH = \"C:\\\\Python\\\\scraping\\\\New folder\"\n",
    "n = int(input('Enter no of queries'))\n",
    "list = []\n",
    "for i in range(0,n):\n",
    "    ele = str(input())\n",
    "    list.append(ele)\n",
    "num = int(input('enter no of images required for each query'))\n",
    "for ele in list:\n",
    "    search_and_download(ele,target_path=TARGET_PATH,number_images=num)"
   ]
  },
  {
   "cell_type": "code",
   "execution_count": null,
   "id": "fb98afb9",
   "metadata": {},
   "outputs": [],
   "source": []
  }
 ],
 "metadata": {
  "kernelspec": {
   "display_name": "Python 3.10.6 64-bit",
   "language": "python",
   "name": "python3"
  },
  "language_info": {
   "codemirror_mode": {
    "name": "ipython",
    "version": 3
   },
   "file_extension": ".py",
   "mimetype": "text/x-python",
   "name": "python",
   "nbconvert_exporter": "python",
   "pygments_lexer": "ipython3",
   "version": "3.10.6"
  },
  "vscode": {
   "interpreter": {
    "hash": "7e970d5a8c916bca2cb0122bfed6e5db02415c9f2390f35eac73a3dac43741bd"
   }
  }
 },
 "nbformat": 4,
 "nbformat_minor": 5
}
